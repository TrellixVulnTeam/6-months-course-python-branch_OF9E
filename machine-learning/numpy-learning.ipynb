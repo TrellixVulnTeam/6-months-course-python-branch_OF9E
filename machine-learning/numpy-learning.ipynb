{
 "cells": [
  {
   "cell_type": "code",
   "execution_count": 1,
   "id": "b2ea34d9",
   "metadata": {},
   "outputs": [],
   "source": [
    "import numpy as np"
   ]
  },
  {
   "cell_type": "code",
   "execution_count": 2,
   "id": "b1a4345e",
   "metadata": {},
   "outputs": [],
   "source": [
    "array_1d = np.array([1,2,3,4,5])"
   ]
  },
  {
   "cell_type": "code",
   "execution_count": 4,
   "id": "0f32eb50",
   "metadata": {},
   "outputs": [
    {
     "name": "stdout",
     "output_type": "stream",
     "text": [
      "[1 2 3 4 5]\n"
     ]
    }
   ],
   "source": [
    "print(array_1d)"
   ]
  },
  {
   "cell_type": "code",
   "execution_count": 5,
   "id": "c39c0b3b",
   "metadata": {},
   "outputs": [
    {
     "name": "stdout",
     "output_type": "stream",
     "text": [
      "<class 'numpy.ndarray'>\n"
     ]
    }
   ],
   "source": [
    "print(type(array_1d))"
   ]
  },
  {
   "cell_type": "code",
   "execution_count": 7,
   "id": "1631e18d",
   "metadata": {},
   "outputs": [
    {
     "name": "stdout",
     "output_type": "stream",
     "text": [
      "1\n"
     ]
    }
   ],
   "source": [
    "print(array_1d.ndim)"
   ]
  },
  {
   "cell_type": "code",
   "execution_count": 14,
   "id": "541fd2b7",
   "metadata": {},
   "outputs": [],
   "source": [
    "array_2d = np.array([[1,2,3,4],[5,6,7,8]])"
   ]
  },
  {
   "cell_type": "code",
   "execution_count": 17,
   "id": "f6615ba0",
   "metadata": {},
   "outputs": [
    {
     "name": "stdout",
     "output_type": "stream",
     "text": [
      "[[1 2 3 4]\n",
      " [5 6 7 8]]\n"
     ]
    }
   ],
   "source": [
    "print(array_2d)"
   ]
  },
  {
   "cell_type": "code",
   "execution_count": 18,
   "id": "80f38a1e",
   "metadata": {},
   "outputs": [
    {
     "name": "stdout",
     "output_type": "stream",
     "text": [
      "8\n"
     ]
    }
   ],
   "source": [
    "print(array_2d.size)"
   ]
  },
  {
   "cell_type": "code",
   "execution_count": 19,
   "id": "e91ee6d6",
   "metadata": {},
   "outputs": [
    {
     "name": "stdout",
     "output_type": "stream",
     "text": [
      "8\n"
     ]
    }
   ],
   "source": [
    "print(array_2d.size)"
   ]
  },
  {
   "cell_type": "code",
   "execution_count": 20,
   "id": "e546b3d9",
   "metadata": {},
   "outputs": [
    {
     "name": "stdout",
     "output_type": "stream",
     "text": [
      "(2, 4)\n"
     ]
    }
   ],
   "source": [
    "print(array_2d.shape)"
   ]
  },
  {
   "cell_type": "code",
   "execution_count": 21,
   "id": "844f23ec",
   "metadata": {},
   "outputs": [
    {
     "name": "stdout",
     "output_type": "stream",
     "text": [
      "int64\n"
     ]
    }
   ],
   "source": [
    "print(array_2d.dtype)"
   ]
  },
  {
   "cell_type": "code",
   "execution_count": 26,
   "id": "6840c26f",
   "metadata": {},
   "outputs": [],
   "source": [
    "matrix_array = np.array([[1,1,1,1],[1,1,1,1],[1,1,1,1]])"
   ]
  },
  {
   "cell_type": "code",
   "execution_count": 28,
   "id": "1319942b",
   "metadata": {},
   "outputs": [
    {
     "name": "stdout",
     "output_type": "stream",
     "text": [
      "[[1 1 1 1]\n",
      " [1 1 1 1]\n",
      " [1 1 1 1]]\n"
     ]
    }
   ],
   "source": [
    "print(matrix_array)"
   ]
  },
  {
   "cell_type": "code",
   "execution_count": 31,
   "id": "9c469cd4",
   "metadata": {},
   "outputs": [
    {
     "name": "stdout",
     "output_type": "stream",
     "text": [
      "[1. 1. 1. 1. 1.]\n"
     ]
    }
   ],
   "source": [
    "print(np.ones(5))"
   ]
  },
  {
   "cell_type": "code",
   "execution_count": 32,
   "id": "25406549",
   "metadata": {},
   "outputs": [
    {
     "name": "stdout",
     "output_type": "stream",
     "text": [
      "<class 'numpy.dtype'>\n"
     ]
    }
   ],
   "source": [
    "print(np.dtype)"
   ]
  },
  {
   "cell_type": "code",
   "execution_count": 33,
   "id": "32dc2a9a",
   "metadata": {},
   "outputs": [
    {
     "name": "stdout",
     "output_type": "stream",
     "text": [
      "int64\n"
     ]
    }
   ],
   "source": [
    "print(matrix_array.dtype)"
   ]
  },
  {
   "cell_type": "code",
   "execution_count": 36,
   "id": "c9c21d6b",
   "metadata": {},
   "outputs": [],
   "source": [
    "matrix1 = np.ones((1,5))"
   ]
  },
  {
   "cell_type": "code",
   "execution_count": 37,
   "id": "1a328c39",
   "metadata": {},
   "outputs": [
    {
     "name": "stdout",
     "output_type": "stream",
     "text": [
      "[[1. 1. 1. 1. 1.]]\n"
     ]
    }
   ],
   "source": [
    "print(matrix1)"
   ]
  },
  {
   "cell_type": "code",
   "execution_count": 39,
   "id": "e12ebf17",
   "metadata": {},
   "outputs": [],
   "source": [
    "matrix_1 = np.ones((3,5),dtype=int)"
   ]
  },
  {
   "cell_type": "code",
   "execution_count": 40,
   "id": "ab347ada",
   "metadata": {},
   "outputs": [
    {
     "name": "stdout",
     "output_type": "stream",
     "text": [
      "[[1 1 1 1 1]\n",
      " [1 1 1 1 1]\n",
      " [1 1 1 1 1]]\n"
     ]
    }
   ],
   "source": [
    "print(matrix_1)"
   ]
  },
  {
   "cell_type": "markdown",
   "id": "89cc6156",
   "metadata": {},
   "source": [
    "# arange()"
   ]
  },
  {
   "cell_type": "code",
   "execution_count": 41,
   "id": "c5d61bb7",
   "metadata": {},
   "outputs": [],
   "source": [
    "oned_array = np.arange(1,15)"
   ]
  },
  {
   "cell_type": "code",
   "execution_count": 42,
   "id": "b0cc4931",
   "metadata": {},
   "outputs": [
    {
     "name": "stdout",
     "output_type": "stream",
     "text": [
      "[ 1  2  3  4  5  6  7  8  9 10 11 12 13 14]\n"
     ]
    }
   ],
   "source": [
    "print(oned_array)"
   ]
  },
  {
   "cell_type": "code",
   "execution_count": 44,
   "id": "29c9b207",
   "metadata": {},
   "outputs": [],
   "source": [
    "even_array  = np.arange(1,15,2)"
   ]
  },
  {
   "cell_type": "code",
   "execution_count": 45,
   "id": "a5eb5e89",
   "metadata": {},
   "outputs": [
    {
     "name": "stdout",
     "output_type": "stream",
     "text": [
      "[ 1  3  5  7  9 11 13]\n"
     ]
    }
   ],
   "source": [
    "print(even_array)"
   ]
  },
  {
   "cell_type": "markdown",
   "id": "cf8e01c0",
   "metadata": {},
   "source": [
    "# linespace"
   ]
  },
  {
   "cell_type": "code",
   "execution_count": 46,
   "id": "f22f16be",
   "metadata": {},
   "outputs": [],
   "source": [
    "line = np.linspace(1,3,5)"
   ]
  },
  {
   "cell_type": "code",
   "execution_count": 47,
   "id": "b0578646",
   "metadata": {},
   "outputs": [
    {
     "name": "stdout",
     "output_type": "stream",
     "text": [
      "[1.  1.5 2.  2.5 3. ]\n"
     ]
    }
   ],
   "source": [
    "print(line)"
   ]
  },
  {
   "cell_type": "markdown",
   "id": "6ad32cfe",
   "metadata": {},
   "source": [
    "# reshape()"
   ]
  },
  {
   "cell_type": "code",
   "execution_count": 50,
   "id": "e9a973d1",
   "metadata": {},
   "outputs": [],
   "source": [
    "re_shape = array_2d.reshape(2,4)"
   ]
  },
  {
   "cell_type": "code",
   "execution_count": 52,
   "id": "5bd2c363",
   "metadata": {},
   "outputs": [
    {
     "name": "stdout",
     "output_type": "stream",
     "text": [
      "[[1 2 3 4]\n",
      " [5 6 7 8]]\n"
     ]
    }
   ],
   "source": [
    "print(re_shape)"
   ]
  },
  {
   "cell_type": "code",
   "execution_count": 53,
   "id": "4c97d6c2",
   "metadata": {},
   "outputs": [],
   "source": [
    "array_2d = np.arange(1,15).reshape(2,7)"
   ]
  },
  {
   "cell_type": "code",
   "execution_count": 54,
   "id": "ceb30bc3",
   "metadata": {},
   "outputs": [
    {
     "name": "stdout",
     "output_type": "stream",
     "text": [
      "[[ 1  2  3  4  5  6  7]\n",
      " [ 8  9 10 11 12 13 14]]\n"
     ]
    }
   ],
   "source": [
    "print(array_2d)"
   ]
  },
  {
   "cell_type": "markdown",
   "id": "17bcc92c",
   "metadata": {},
   "source": [
    "# ravel() convert multi to oned"
   ]
  },
  {
   "cell_type": "code",
   "execution_count": 55,
   "id": "aa837453",
   "metadata": {},
   "outputs": [
    {
     "name": "stdout",
     "output_type": "stream",
     "text": [
      "[ 1  2  3  4  5  6  7  8  9 10 11 12 13 14]\n"
     ]
    }
   ],
   "source": [
    "print(array_2d.ravel())"
   ]
  },
  {
   "cell_type": "markdown",
   "id": "46f9babc",
   "metadata": {},
   "source": [
    "# flatten()"
   ]
  },
  {
   "cell_type": "code",
   "execution_count": 56,
   "id": "e76dae21",
   "metadata": {},
   "outputs": [
    {
     "name": "stdout",
     "output_type": "stream",
     "text": [
      "[ 1  2  3  4  5  6  7  8  9 10 11 12 13 14]\n"
     ]
    }
   ],
   "source": [
    "print(array_2d.flatten())"
   ]
  },
  {
   "cell_type": "markdown",
   "id": "271e49a7",
   "metadata": {},
   "source": [
    "# transpose matrix"
   ]
  },
  {
   "cell_type": "code",
   "execution_count": 57,
   "id": "56961ec8",
   "metadata": {},
   "outputs": [
    {
     "name": "stdout",
     "output_type": "stream",
     "text": [
      "[[ 1  8]\n",
      " [ 2  9]\n",
      " [ 3 10]\n",
      " [ 4 11]\n",
      " [ 5 12]\n",
      " [ 6 13]\n",
      " [ 7 14]]\n"
     ]
    }
   ],
   "source": [
    "print(array_2d.T)"
   ]
  },
  {
   "cell_type": "markdown",
   "id": "a8f45ef0",
   "metadata": {},
   "source": [
    "# Mathmatics operation by using Numpy"
   ]
  },
  {
   "cell_type": "code",
   "execution_count": 58,
   "id": "b8d7c615",
   "metadata": {},
   "outputs": [],
   "source": [
    "array1 = np.arange(1, 10).reshape(3,3)"
   ]
  },
  {
   "cell_type": "code",
   "execution_count": 59,
   "id": "4dadcbbc",
   "metadata": {},
   "outputs": [],
   "source": [
    "array2 = np.arange(1,10).reshape(3,3)"
   ]
  },
  {
   "cell_type": "code",
   "execution_count": 60,
   "id": "32e4cc5c",
   "metadata": {},
   "outputs": [
    {
     "name": "stdout",
     "output_type": "stream",
     "text": [
      "[[ 2  4  6]\n",
      " [ 8 10 12]\n",
      " [14 16 18]]\n"
     ]
    }
   ],
   "source": [
    "print(array1 + array2 )"
   ]
  },
  {
   "cell_type": "code",
   "execution_count": 62,
   "id": "b983df03",
   "metadata": {},
   "outputs": [
    {
     "name": "stdout",
     "output_type": "stream",
     "text": [
      "[[ 2  4  6]\n",
      " [ 8 10 12]\n",
      " [14 16 18]]\n"
     ]
    }
   ],
   "source": [
    "print(np.add(array1,array2))"
   ]
  },
  {
   "cell_type": "code",
   "execution_count": 63,
   "id": "98e3b712",
   "metadata": {},
   "outputs": [
    {
     "name": "stdout",
     "output_type": "stream",
     "text": [
      "[[0 0 0]\n",
      " [0 0 0]\n",
      " [0 0 0]]\n"
     ]
    }
   ],
   "source": [
    "print(np.subtract(array1, array2))"
   ]
  },
  {
   "cell_type": "code",
   "execution_count": 64,
   "id": "0a5b4953",
   "metadata": {},
   "outputs": [
    {
     "name": "stdout",
     "output_type": "stream",
     "text": [
      "[[1. 1. 1.]\n",
      " [1. 1. 1.]\n",
      " [1. 1. 1.]]\n"
     ]
    }
   ],
   "source": [
    "print(np.divide(array1, array2))"
   ]
  },
  {
   "cell_type": "code",
   "execution_count": 66,
   "id": "f9ff0159",
   "metadata": {},
   "outputs": [],
   "source": [
    "max_value1 = array1.dot(array2)"
   ]
  },
  {
   "cell_type": "code",
   "execution_count": 67,
   "id": "b645d935",
   "metadata": {},
   "outputs": [
    {
     "name": "stdout",
     "output_type": "stream",
     "text": [
      "[[ 30  36  42]\n",
      " [ 66  81  96]\n",
      " [102 126 150]]\n"
     ]
    }
   ],
   "source": [
    "print(max_value1)"
   ]
  },
  {
   "cell_type": "code",
   "execution_count": 68,
   "id": "06b1a984",
   "metadata": {},
   "outputs": [
    {
     "name": "stdout",
     "output_type": "stream",
     "text": [
      "150\n"
     ]
    }
   ],
   "source": [
    "print(max_value1.max())"
   ]
  },
  {
   "cell_type": "code",
   "execution_count": 70,
   "id": "4b411dc4",
   "metadata": {},
   "outputs": [
    {
     "name": "stdout",
     "output_type": "stream",
     "text": [
      "[102 126 150]\n"
     ]
    }
   ],
   "source": [
    "print(max_value1.max(axis=0))"
   ]
  },
  {
   "cell_type": "code",
   "execution_count": 71,
   "id": "cc945cfe",
   "metadata": {},
   "outputs": [
    {
     "name": "stdout",
     "output_type": "stream",
     "text": [
      "[ 42  96 150]\n"
     ]
    }
   ],
   "source": [
    "print(max_value1.max(axis=1))"
   ]
  },
  {
   "cell_type": "code",
   "execution_count": 72,
   "id": "b836d424",
   "metadata": {},
   "outputs": [
    {
     "name": "stdout",
     "output_type": "stream",
     "text": [
      "729\n"
     ]
    }
   ],
   "source": [
    "print(np.sum(max_value1))"
   ]
  },
  {
   "cell_type": "code",
   "execution_count": 73,
   "id": "cb15e215",
   "metadata": {},
   "outputs": [
    {
     "name": "stdout",
     "output_type": "stream",
     "text": [
      "30\n"
     ]
    }
   ],
   "source": [
    "print(np.min(max_value1))"
   ]
  },
  {
   "cell_type": "code",
   "execution_count": 74,
   "id": "0076b434",
   "metadata": {},
   "outputs": [
    {
     "name": "stdout",
     "output_type": "stream",
     "text": [
      "81.0\n"
     ]
    }
   ],
   "source": [
    "print(np.mean(max_value1))"
   ]
  },
  {
   "cell_type": "code",
   "execution_count": 75,
   "id": "7a0ba694",
   "metadata": {},
   "outputs": [
    {
     "name": "stdout",
     "output_type": "stream",
     "text": [
      "[66. 81. 96.]\n"
     ]
    }
   ],
   "source": [
    "print(np.mean(max_value1, axis=0))"
   ]
  },
  {
   "cell_type": "code",
   "execution_count": 76,
   "id": "0b460c00",
   "metadata": {},
   "outputs": [
    {
     "name": "stdout",
     "output_type": "stream",
     "text": [
      "[66 81 96]\n"
     ]
    }
   ],
   "source": [
    "print(np.mean(max_value1,axis=0,dtype=int))"
   ]
  },
  {
   "cell_type": "code",
   "execution_count": null,
   "id": "dfea620f",
   "metadata": {},
   "outputs": [],
   "source": []
  }
 ],
 "metadata": {
  "kernelspec": {
   "display_name": "Python 3 (ipykernel)",
   "language": "python",
   "name": "python3"
  },
  "language_info": {
   "codemirror_mode": {
    "name": "ipython",
    "version": 3
   },
   "file_extension": ".py",
   "mimetype": "text/x-python",
   "name": "python",
   "nbconvert_exporter": "python",
   "pygments_lexer": "ipython3",
   "version": "3.9.7"
  }
 },
 "nbformat": 4,
 "nbformat_minor": 5
}
